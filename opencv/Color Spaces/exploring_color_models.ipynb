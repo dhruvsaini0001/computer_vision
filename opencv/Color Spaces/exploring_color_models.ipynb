{
 "cells": [
  {
   "cell_type": "code",
   "execution_count": null,
   "id": "58899666",
   "metadata": {},
   "outputs": [],
   "source": []
  },
  {
   "cell_type": "code",
   "execution_count": 22,
   "id": "92520a86",
   "metadata": {},
   "outputs": [],
   "source": [
    "import cv2"
   ]
  },
  {
   "cell_type": "code",
   "execution_count": 23,
   "id": "bd70a819",
   "metadata": {},
   "outputs": [],
   "source": [
    "bgr_image = cv2.imread(\"mountain.jpg\")"
   ]
  },
  {
   "cell_type": "code",
   "execution_count": 24,
   "id": "1fcf8ce9",
   "metadata": {},
   "outputs": [],
   "source": [
    "\n",
    "# Check if the image was loaded\n",
    "if bgr_image is None:\n",
    "    print(\"Failed to load image. Check the file path.\")\n",
    "else:\n",
    "    # Convert to grayscale\n",
    "    gray_image = cv2.cvtColor(bgr_image, cv2.COLOR_BGR2GRAY)\n",
    "    cv2.imwrite(\"./gray_image.jpg\", gray_image)\n"
   ]
  },
  {
   "cell_type": "code",
   "execution_count": 25,
   "id": "9a7b9575",
   "metadata": {},
   "outputs": [
    {
     "data": {
      "text/plain": [
       "True"
      ]
     },
     "execution_count": 25,
     "metadata": {},
     "output_type": "execute_result"
    }
   ],
   "source": [
    "## convert to HSV \n",
    "hsv_image = cv2.cvtColor(bgr_image, cv2.COLOR_BGR2HSV)\n",
    "cv2.imwrite(\"./hsv_image.jpg\", hsv_image)\n"
   ]
  },
  {
   "cell_type": "code",
   "execution_count": 26,
   "id": "65e393fa",
   "metadata": {},
   "outputs": [
    {
     "data": {
      "text/plain": [
       "True"
      ]
     },
     "execution_count": 26,
     "metadata": {},
     "output_type": "execute_result"
    }
   ],
   "source": [
    "## convert bgr to lab\n",
    "lab_image = cv2.cvtColor(bgr_image, cv2.COLOR_BGR2LAB)\n",
    "cv2.imwrite(\"./lab_image.jpg\", lab_image)\n"
   ]
  },
  {
   "cell_type": "code",
   "execution_count": 27,
   "id": "8e54d0fa",
   "metadata": {},
   "outputs": [
    {
     "data": {
      "text/plain": [
       "True"
      ]
     },
     "execution_count": 27,
     "metadata": {},
     "output_type": "execute_result"
    }
   ],
   "source": [
    "## convert to rgb \n",
    "\n",
    "rgb_image = cv2.cvtColor(bgr_image, cv2.COLOR_BGR2RGB)\n",
    "cv2.imwrite(\"./rgb_image.jpg\", rgb_image)\n"
   ]
  },
  {
   "cell_type": "code",
   "execution_count": 28,
   "id": "e87ed739",
   "metadata": {},
   "outputs": [
    {
     "data": {
      "text/plain": [
       "True"
      ]
     },
     "execution_count": 28,
     "metadata": {},
     "output_type": "execute_result"
    }
   ],
   "source": [
    "cv2.imwrite(\"./bgr_image.jpg\", bgr_image)\n"
   ]
  },
  {
   "cell_type": "code",
   "execution_count": null,
   "id": "0e75eee9",
   "metadata": {},
   "outputs": [],
   "source": []
  }
 ],
 "metadata": {
  "kernelspec": {
   "display_name": "Python 3",
   "language": "python",
   "name": "python3"
  },
  "language_info": {
   "codemirror_mode": {
    "name": "ipython",
    "version": 3
   },
   "file_extension": ".py",
   "mimetype": "text/x-python",
   "name": "python",
   "nbconvert_exporter": "python",
   "pygments_lexer": "ipython3",
   "version": "3.11.9"
  }
 },
 "nbformat": 4,
 "nbformat_minor": 5
}
