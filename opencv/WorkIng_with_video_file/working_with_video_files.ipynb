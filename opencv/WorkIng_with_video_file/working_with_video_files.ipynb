{
 "cells": [
  {
   "cell_type": "code",
   "execution_count": 2,
   "id": "a7d9ec51",
   "metadata": {},
   "outputs": [],
   "source": [
    "import cv2"
   ]
  },
  {
   "cell_type": "code",
   "execution_count": 3,
   "id": "4def19b7",
   "metadata": {},
   "outputs": [],
   "source": [
    "## Load the video \n",
    "\n",
    "video = cv2.VideoCapture(\"./mountain.mp4\")"
   ]
  },
  {
   "cell_type": "code",
   "execution_count": 4,
   "id": "befe5009",
   "metadata": {},
   "outputs": [],
   "source": [
    "## Display the video \n",
    "\n",
    "while True:\n",
    "    ret , frame = video.read()\n",
    "    if not ret :\n",
    "        break\n",
    "    cv2.imshow(\"video frame\",frame)\n",
    "\n",
    "    if cv2.waitKey(1) & 0xff == ord('q'):\n",
    "        break\n",
    "\n",
    "## T0 ---> f1 \n",
    "# wait 1 milisecond\n",
    "# T1 ----> f2\n",
    "\n",
    "video.release()\n",
    "cv2.destroyAllWindows()\n",
    "\n",
    "## if not write these two lines \n",
    "# video.release()\n",
    "# cv2.destroyAllWindows()\n",
    "# then kernal will crashed and you have to restart the kernal\n"
   ]
  },
  {
   "cell_type": "code",
   "execution_count": 8,
   "id": "bbaf7655",
   "metadata": {},
   "outputs": [],
   "source": [
    "## write a video to local storage  \n",
    "video = cv2.VideoCapture(\"./mountain.mp4\")\n",
    "\n",
    "fourcc = cv2.VideoWriter_fourcc(*\"mp4v\")\n",
    "width = int(video.get(cv2.CAP_PROP_FRAME_WIDTH))\n",
    "height = int(video.get(cv2.CAP_PROP_FRAME_HEIGHT))\n",
    "out = cv2.VideoWriter(\"./output.mp4\",fourcc,30,(width,height))\n",
    "\n",
    "while True:\n",
    "    ret , frame = video.read()\n",
    "    if not ret:\n",
    "        break\n",
    "    out.write(frame)\n",
    "\n",
    "out.release()\n",
    "\n",
    "video.release()\n",
    "cv2.destroyAllWindows()"
   ]
  },
  {
   "cell_type": "code",
   "execution_count": null,
   "id": "fbbb6377",
   "metadata": {},
   "outputs": [],
   "source": [
    "## write a video to local storage  \n",
    "video = cv2.VideoCapture(\"./mountain.mp4\")\n",
    "\n",
    "fourcc = cv2.VideoWriter_fourcc(*\"mp4v\")\n",
    "width = int(video.get(cv2.CAP_PROP_FRAME_WIDTH))\n",
    "height = int(video.get(cv2.CAP_PROP_FRAME_HEIGHT))\n",
    "out = cv2.VideoWriter(\"./output.mp4\",fourcc,30,(width,height))\n",
    "\n",
    "while True:\n",
    "    ret , frame = video.read()\n",
    "    if not ret:\n",
    "        break\n",
    "    out.write(frame)\n",
    "\n",
    "out.release()\n",
    "\n",
    "video.release()\n",
    "cv2.destroyAllWindows()"
   ]
  },
  {
   "cell_type": "code",
   "execution_count": null,
   "id": "fc25a1e1",
   "metadata": {},
   "outputs": [
    {
     "name": "stdout",
     "output_type": "stream",
     "text": [
      "1366\n",
      "720\n"
     ]
    }
   ],
   "source": [
    "\n",
    "# video = cv2.VideoCapture(\"./mountain.mp4\")\n",
    "\n",
    "# width = int(video.get(cv2.CAP_PROP_FRAME_WIDTH))\n",
    "# height = int(video.get(cv2.CAP_PROP_FRAME_HEIGHT))\n",
    "\n",
    "# print(width)\n",
    "# print(height)"
   ]
  },
  {
   "cell_type": "code",
   "execution_count": 10,
   "id": "347ee7d1",
   "metadata": {},
   "outputs": [],
   "source": [
    "## write a video to local storage  \n",
    "video = cv2.VideoCapture(\"./mountain.mp4\")\n",
    "\n",
    "fourcc = cv2.VideoWriter_fourcc(*\"mp4v\")\n",
    "width = int(video.get(cv2.CAP_PROP_FRAME_WIDTH))\n",
    "height = int(video.get(cv2.CAP_PROP_FRAME_HEIGHT))\n",
    "out = cv2.VideoWriter(\"./output_new.mp4\",fourcc,30,(width,height))\n",
    "\n",
    "while True:\n",
    "    ret , frame = video.read()\n",
    "    if not ret:\n",
    "        break\n",
    "    frame = frame + 20\n",
    "    out.write(frame)\n",
    "\n",
    "out.release()\n",
    "\n",
    "video.release()\n",
    "cv2.destroyAllWindows()"
   ]
  },
  {
   "cell_type": "code",
   "execution_count": null,
   "id": "c2c3629e",
   "metadata": {},
   "outputs": [],
   "source": []
  }
 ],
 "metadata": {
  "kernelspec": {
   "display_name": "Python 3",
   "language": "python",
   "name": "python3"
  },
  "language_info": {
   "codemirror_mode": {
    "name": "ipython",
    "version": 3
   },
   "file_extension": ".py",
   "mimetype": "text/x-python",
   "name": "python",
   "nbconvert_exporter": "python",
   "pygments_lexer": "ipython3",
   "version": "3.11.9"
  }
 },
 "nbformat": 4,
 "nbformat_minor": 5
}
