{
 "cells": [
  {
   "cell_type": "code",
   "execution_count": 1,
   "id": "434254b5",
   "metadata": {},
   "outputs": [],
   "source": [
    "# ! pip install opencv-python\n",
    "\n",
    "# ! pip install ipykernal"
   ]
  },
  {
   "cell_type": "code",
   "execution_count": 9,
   "id": "b7bdd082",
   "metadata": {},
   "outputs": [],
   "source": [
    "import cv2 \n"
   ]
  },
  {
   "cell_type": "code",
   "execution_count": 10,
   "id": "33268cc2",
   "metadata": {},
   "outputs": [],
   "source": [
    "## Read the image\n",
    "\n",
    "image = cv2.imread(\"./WhatsApp Image 2025-05-12 at 09.50.56_cfdce1d4.jpg\")"
   ]
  },
  {
   "cell_type": "code",
   "execution_count": 11,
   "id": "32d56d31",
   "metadata": {},
   "outputs": [
    {
     "name": "stdout",
     "output_type": "stream",
     "text": [
      "image loaded succesfully\n"
     ]
    }
   ],
   "source": [
    "# check if image is loaded successful\n",
    "\n",
    "if image is None:\n",
    "    print(\"error : Could not load the image\")\n",
    "else:\n",
    "    print(\"image loaded succesfully\")"
   ]
  },
  {
   "cell_type": "code",
   "execution_count": null,
   "id": "80bae18b",
   "metadata": {},
   "outputs": [],
   "source": [
    "## Display the image \n",
    "\n",
    "cv2.imshow(\"Image window\",image)\n",
    "# cv2.waitKey(0)  ## pauses a program until a key is press .\n",
    "cv2.waitKey(1000)\n",
    "cv2.destroyAllWindows()  ##release the window"
   ]
  },
  {
   "cell_type": "code",
   "execution_count": 27,
   "id": "f7a4de10",
   "metadata": {},
   "outputs": [
    {
     "data": {
      "text/plain": [
       "True"
      ]
     },
     "execution_count": 27,
     "metadata": {},
     "output_type": "execute_result"
    }
   ],
   "source": [
    "## write the image \n",
    "image_new = image + 222\n",
    "cv2.imwrite(\"./output.jpg\",image_new)"
   ]
  },
  {
   "cell_type": "code",
   "execution_count": null,
   "id": "b61197a0",
   "metadata": {},
   "outputs": [],
   "source": []
  }
 ],
 "metadata": {
  "kernelspec": {
   "display_name": "Python 3",
   "language": "python",
   "name": "python3"
  },
  "language_info": {
   "codemirror_mode": {
    "name": "ipython",
    "version": 3
   },
   "file_extension": ".py",
   "mimetype": "text/x-python",
   "name": "python",
   "nbconvert_exporter": "python",
   "pygments_lexer": "ipython3",
   "version": "3.11.9"
  }
 },
 "nbformat": 4,
 "nbformat_minor": 5
}
